{
 "cells": [
  {
   "cell_type": "code",
   "execution_count": null,
   "metadata": {},
   "outputs": [],
   "source": [
    "# Standard Imports\n",
    "import numpy as np\n",
    "from time import time\n",
    "from matplotlib import pyplot as plt\n",
    "\n",
    "# SHAPER\n",
    "from pyshaper.CommonObservables import buildCommmonObservables\n",
    "from pyshaper.Observables import Observable\n",
    "from pyshaper.Shaper import Shaper\n",
    "\n",
    "# Utils\n",
    "from pyshaper.utils.data_utils import load_cmsopendata\n",
    "from pyshaper.utils.plot_utils import plot_event\n",
    "\n",
    "\n",
    "# Necessary GPU nonsense\n",
    "import torch \n",
    "\n",
    "if torch.cuda.is_available():  \n",
    "    dev = \"cuda:0\" \n",
    "    print(\"Using GPU!\")\n",
    "else:  \n",
    "    dev = \"cpu\"  \n",
    "    print(\"Using CPU!\")\n",
    "device = torch.device(dev) "
   ]
  },
  {
   "cell_type": "code",
   "execution_count": null,
   "metadata": {},
   "outputs": [],
   "source": [
    "# Parameters\n",
    "R = 0.5\n",
    "beta = 1.0\n",
    "N = 50\n",
    "pt_lower = 475\n",
    "pt_upper = 525\n",
    "eta = 1.9\n",
    "quality = 2\n",
    "pad = 125\n",
    "plot_dir = \"results\"\n",
    "\n",
    "# Load data (NOTE: Need the `energyflow` package installed for the default dataset, or provide your own data)\n",
    "dataset, _ = load_cmsopendata(\"~/.energyflow/\", \"cms\", pt_lower, pt_upper, eta, quality, n = N)\n",
    "\n",
    "# Convert to a numpy array of the form (N, pad, 3) where the last dimension is (pt, eta, phi)\n",
    "temp = np.zeros((len(dataset), pad, 3))\n",
    "for (i, event) in enumerate(dataset):\n",
    "\n",
    "    num_particles = len(event[1])\n",
    "    temp[i, :num_particles, 0] = event[1]\n",
    "    temp[i, :num_particles, 1] = event[0][:,0]\n",
    "    temp[i, :num_particles, 2] = event[0][:,1]\n",
    "\n",
    "dataset = temp\n",
    "\n",
    "example_event = dataset[0]\n",
    "plot_event(example_event[:,1:], example_event[:,0], R, color = \"red\")"
   ]
  },
  {
   "cell_type": "code",
   "execution_count": null,
   "metadata": {},
   "outputs": [],
   "source": [
    "# Initialize SHAPER\n",
    "shaper = Shaper({}, device)\n",
    "shaper.to(device)\n",
    "\n",
    "# Pairwise EMDS\n",
    "pairwise_emds = shaper.pairwise_emds2(dataset, dataset, beta = 1.0, R = R)\n"
   ]
  },
  {
   "cell_type": "code",
   "execution_count": null,
   "metadata": {},
   "outputs": [],
   "source": []
  }
 ],
 "metadata": {
  "kernelspec": {
   "display_name": "SHAPER",
   "language": "python",
   "name": "python3"
  },
  "language_info": {
   "codemirror_mode": {
    "name": "ipython",
    "version": 3
   },
   "file_extension": ".py",
   "mimetype": "text/x-python",
   "name": "python",
   "nbconvert_exporter": "python",
   "pygments_lexer": "ipython3",
   "version": "3.8.2"
  }
 },
 "nbformat": 4,
 "nbformat_minor": 2
}
